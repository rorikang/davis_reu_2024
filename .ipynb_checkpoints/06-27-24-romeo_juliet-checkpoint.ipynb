{
 "cells": [
  {
   "cell_type": "code",
   "execution_count": 1,
   "id": "b032035e",
   "metadata": {
    "ExecuteTime": {
     "end_time": "2024-07-01T17:45:04.911687Z",
     "start_time": "2024-07-01T17:45:03.217186Z"
    }
   },
   "outputs": [],
   "source": [
    "# import sys\n",
    "# import gizmo_analysis as gizmo\n",
    "# import utilities as ut\n",
    "# import numpy as np\n",
    "\n",
    "# import matplotlib.pyplot as plt\n",
    "\n",
    "%matplotlib inline\n",
    "from ipynb.fs.full.functions import *"
   ]
  },
  {
   "cell_type": "code",
   "execution_count": 2,
   "id": "86881801",
   "metadata": {
    "ExecuteTime": {
     "end_time": "2024-07-01T17:45:06.691006Z",
     "start_time": "2024-07-01T17:45:06.682571Z"
    }
   },
   "outputs": [],
   "source": [
    "rom_juliet_sim_dir = '/Users/rorik/reu/m12_elvis_RomeoJuliet_res3500'\n",
    "m12m_sim_dir = '/Users/rorik/reu/m12m'"
   ]
  },
  {
   "cell_type": "code",
   "execution_count": null,
   "id": "487bb0ee",
   "metadata": {},
   "outputs": [],
   "source": [
    "rj_part = gizmo.io.Read.read_snapshots(['star'], 'redshift', 0, rom_juliet_sim_dir, \n",
    "                                    assign_hosts_rotation=True, assign_formation_coordinates=True)\n",
    "rj_inds = ut.array.get_indices(part['star'].prop('host.form.distance.total')/part['star'].prop('form.scalefactor'), [0,30])\n",
    "rj_inds = ut.array.get_indices(part['star'].prop('host.distance.principal.cyl')[::,2], [-0.3,0.3], inds)\n",
    "rj_inds = ut.array.get_indices(part['star'].prop('host.distance.principal.cyl')[::,0], [0,15], inds)\n",
    "\n",
    "rj_ps = part['star'].prop('host.distance.principal.cyl')[inds] # in kpc\n",
    "rj_vs = part['star'].prop('host.velocity.principal.cyl')[inds] # in km/s\n",
    "rj_age = part['star'].prop('age')[inds] # in gyr\n",
    "\n",
    "rj_ps_form = part['star'].prop('form.host.distance.principal.cyl')[inds]\n",
    "rj_vs_form = part['star'].prop('form.host.velocity.principal.cyl')[inds]"
   ]
  }
 ],
 "metadata": {
  "kernelspec": {
   "display_name": "Python 3",
   "language": "python",
   "name": "python3"
  },
  "language_info": {
   "codemirror_mode": {
    "name": "ipython",
    "version": 3
   },
   "file_extension": ".py",
   "mimetype": "text/x-python",
   "name": "python",
   "nbconvert_exporter": "python",
   "pygments_lexer": "ipython3",
   "version": "3.8.8"
  }
 },
 "nbformat": 4,
 "nbformat_minor": 5
}
