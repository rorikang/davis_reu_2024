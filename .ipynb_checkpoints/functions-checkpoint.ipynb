{
 "cells": [
  {
   "cell_type": "code",
   "execution_count": 1,
   "id": "f28e263b",
   "metadata": {
    "ExecuteTime": {
     "end_time": "2024-07-01T17:40:43.730429Z",
     "start_time": "2024-07-01T17:40:40.998382Z"
    }
   },
   "outputs": [],
   "source": [
    "# import sys\n",
    "# import gizmo_analysis as gizmo\n",
    "# import utilities as ut\n",
    "# import numpy as np\n",
    "# import matplotlib.pyplot as plt"
   ]
  },
  {
   "cell_type": "code",
   "execution_count": 2,
   "id": "d575bd97",
   "metadata": {
    "ExecuteTime": {
     "end_time": "2024-07-01T17:40:43.755623Z",
     "start_time": "2024-07-01T17:40:43.733985Z"
    }
   },
   "outputs": [],
   "source": [
    "from scipy.stats import binned_statistic\n",
    "\n",
    "def bin_helper(x, y, numbins=20, stat='mean'):\n",
    "\n",
    "    stat, edges, _ = binned_statistic(x, y, statistic=stat, bins=numbins)\n",
    "    std, edges, _ = binned_statistic(x, y, statistic='std', bins=numbins)\n",
    "    bins = edges[:-1]\n",
    "    \n",
    "    return stat, std, bins\n",
    "\n",
    "# ut.bin.get_statistics_of_array()"
   ]
  },
  {
   "cell_type": "code",
   "execution_count": 3,
   "id": "5d53968d",
   "metadata": {
    "ExecuteTime": {
     "end_time": "2024-07-01T17:40:43.771816Z",
     "start_time": "2024-07-01T17:40:43.756134Z"
    }
   },
   "outputs": [],
   "source": [
    "def plot_helper(x, y, label, c='r', stat='mean', ax=None, scatter=False, grid=True):\n",
    "    if ax==None:\n",
    "        ax = plt.gca()\n",
    "    if scatter:\n",
    "        ax.scatter(x, y, s=1, alpha=0.1)\n",
    "    stat_y, std, bins = bin_helper(x, y, 14, stat=stat)\n",
    "    \n",
    "    ax.plot(bins, stat_y, 'o-', c=c, label=label)\n",
    "    ax.fill_between(bins, stat_y-std, stat_y+std, color=c, alpha=0.5)\n",
    "    ax.legend(loc='upper right')\n",
    "    if grid:\n",
    "        ax.grid()\n",
    "    return ax"
   ]
  },
  {
   "cell_type": "code",
   "execution_count": 4,
   "id": "6f220555",
   "metadata": {
    "ExecuteTime": {
     "end_time": "2024-07-01T17:42:39.504746Z",
     "start_time": "2024-07-01T17:42:39.495154Z"
    }
   },
   "outputs": [],
   "source": [
    "def ratio_checker(v_circ_form, v_circ_diff, inds, cutoff=0.2):\n",
    "    \n",
    "    # indices of stars particles formed on circular orbits\n",
    "    form_inds = ut.array.get_indices(ps_form[inds][::, 2], [-0.3, 0.3]) # |z| < 300 pc\n",
    "    v_tot = np.sqrt(np.square(vs_form[inds][::, 0]) + np.square(vs_form[inds][::, 2]))\n",
    "    form_inds = ut.array.get_indices(v_tot, [0,v_circ_form], form_inds)  # sqrt(vR^2 + vz^2) < 20 km/s\n",
    "\n",
    "    vz_diff = vs[inds][::, 2]-vs_form[inds][::, 2]\n",
    "    vR_diff = vs[inds][::, 0]-vs_form[inds][::, 0]\n",
    "    \n",
    "    j = ps[inds][::, 0]*vs[inds][::, 1]\n",
    "    j_form = ps_form[inds][::, 0]*vs_form[inds][::, 1]\n",
    "    j_diff = (j-j_form)/j_form\n",
    "    \n",
    "    # indices of orbits that stay circular: sum in quadrature of change < 10 km/s \n",
    "    v_tot_change = np.sqrt(np.square(vz_diff) + np.square(vR_diff))\n",
    "\n",
    "    non_circular_inds = ut.array.get_indices(v_tot_change, [v_circ_diff, max(v_tot_change)], form_inds) \n",
    "\n",
    "    cold_T_inds = ut.array.get_indices(v_tot_change, [0, v_circ_diff], form_inds)\n",
    "    \n",
    "    cold_T_cutoff_inds = ut.array.get_indices(abs(j_diff), [cutoff, max(abs(j_diff))], cold_T_inds)\n",
    "        \n",
    "    return len(cold_T_cutoff_inds)/len(non_circular_inds), j_diff[cold_T_inds]\n"
   ]
  },
  {
   "cell_type": "code",
   "execution_count": 5,
   "id": "b618c8d6",
   "metadata": {
    "ExecuteTime": {
     "end_time": "2024-07-01T18:04:49.263867Z",
     "start_time": "2024-07-01T18:04:49.187329Z"
    }
   },
   "outputs": [],
   "source": [
    "def plot_hist_stats(data, ax=None, numstd=1):\n",
    "    if ax==None:\n",
    "        ax = plt.gca()\n",
    "    mean = np.mean(data)\n",
    "    std = np.std(data)\n",
    "    c=['r', 'orange']\n",
    "    ax.axvline(mean, c=c[0], label=f'mean = {mean:.3f}')\n",
    "    for i in range(numstd):\n",
    "        ax.axvline(mean-std*(i+1), c=c[i], linestyle='dashed', label=f'{i+1} $\\sigma$ = {std*(i+1):.3f}')\n",
    "        ax.axvline(mean+std*(i+1), linestyle='dashed', c=c[i])\n",
    "    ax.legend()\n",
    "    return ax"
   ]
  }
 ],
 "metadata": {
  "kernelspec": {
   "display_name": "Python 3",
   "language": "python",
   "name": "python3"
  },
  "language_info": {
   "codemirror_mode": {
    "name": "ipython",
    "version": 3
   },
   "file_extension": ".py",
   "mimetype": "text/x-python",
   "name": "python",
   "nbconvert_exporter": "python",
   "pygments_lexer": "ipython3",
   "version": "3.8.8"
  }
 },
 "nbformat": 4,
 "nbformat_minor": 5
}
